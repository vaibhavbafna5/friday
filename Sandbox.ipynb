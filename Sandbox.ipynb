{
 "cells": [
  {
   "cell_type": "code",
   "execution_count": 32,
   "metadata": {},
   "outputs": [],
   "source": [
    "import spotipy\n",
    "import spotipy.util as util\n",
    "\n",
    "scope = 'user-library-read user-modify-playback-state user-read-playback-state'"
   ]
  },
  {
   "cell_type": "code",
   "execution_count": 33,
   "metadata": {},
   "outputs": [
    {
     "data": {
      "text/plain": [
       "'BQChHUDhTESK5AUJTH1AolcVlLWCyFP0oOc2j1ZfOBsxiH_PIhIiQ209KdYvcD3eVFSy2jovFZZcZLX-9HGkotiroQJKHs-n8YQX-YtMnOwKAY86xhwmDCR1zPOBLBScKhxkgnyJ-twarF875mmzzJ1UXqLuz3CA6V_Nf4IVaYIj7BgB'"
      ]
     },
     "execution_count": 33,
     "metadata": {},
     "output_type": "execute_result"
    }
   ],
   "source": [
    "util.prompt_for_user_token('Vaibhav Bafna', scope,client_id='d6f3df49b6634cbb94e820d337fda4e2',client_secret='3280007444f04aada6de9cc3639beb0e',redirect_uri='http://localhost/')"
   ]
  },
  {
   "cell_type": "code",
   "execution_count": 19,
   "metadata": {},
   "outputs": [],
   "source": [
    "token = 'BQD-YkgbwSf-cTLEqAE5R6deGzpbUyyUF9xQ1aPKIVFDStSCWCbura66fKQVZSQniVM6UK7ExYHeJ2AVYfDQxsy5LDJuRPeYVL-XWvh6XXRT6VH5ZS4Uwyluw5O6wvh3SCabNHPBYQlQo1k1LJS_hf2OapSdDYwUahHMiD8oyqm_HGTN'\n",
    "sp = spotipy.Spotify(auth=token)"
   ]
  },
  {
   "cell_type": "raw",
   "metadata": {},
   "source": [
    "sp.devices()"
   ]
  },
  {
   "cell_type": "code",
   "execution_count": 23,
   "metadata": {},
   "outputs": [],
   "source": [
    "lst = [2, 0, 0, 0]"
   ]
  },
  {
   "cell_type": "code",
   "execution_count": 24,
   "metadata": {},
   "outputs": [],
   "source": [
    "def math_function(lst):\n",
    "    while True:\n",
    "        max_i = -1\n",
    "        for i in range(0, len(lst)):\n",
    "            if i != 0:\n",
    "                max_i = i\n",
    "        if max_i == -1:\n",
    "            return 0\n",
    "        lst[max_i] = lst[max_i] - 1\n",
    "        for j in range(max_i + 1, len(lst)):\n",
    "            lst[j] = 2"
   ]
  },
  {
   "cell_type": "code",
   "execution_count": null,
   "metadata": {},
   "outputs": [],
   "source": [
    "math_function(lst)"
   ]
  },
  {
   "cell_type": "code",
   "execution_count": 24,
   "metadata": {},
   "outputs": [],
   "source": [
    "def gcd(a, b):\n",
    "    count = 1\n",
    "    r=a%b\n",
    "    while r:\n",
    "        a=b\n",
    "        b=r\n",
    "        r=a%b\n",
    "        count += 1\n",
    "        \n",
    "    print('GCD is: ', b)\n",
    "    print('Iterations: ', count)"
   ]
  },
  {
   "cell_type": "code",
   "execution_count": 30,
   "metadata": {},
   "outputs": [
    {
     "name": "stdout",
     "output_type": "stream",
     "text": [
      "GCD is:  1\n",
      "Iterations:  4\n"
     ]
    }
   ],
   "source": [
    "gcd(11, 8)"
   ]
  },
  {
   "cell_type": "code",
   "execution_count": 31,
   "metadata": {},
   "outputs": [
    {
     "ename": "ZeroDivisionError",
     "evalue": "integer division or modulo by zero",
     "output_type": "error",
     "traceback": [
      "\u001b[0;31m---------------------------------------------------------------------------\u001b[0m",
      "\u001b[0;31mZeroDivisionError\u001b[0m                         Traceback (most recent call last)",
      "\u001b[0;32m<ipython-input-31-903d91a13f7e>\u001b[0m in \u001b[0;36m<module>\u001b[0;34m\u001b[0m\n\u001b[0;32m----> 1\u001b[0;31m \u001b[0;36m18\u001b[0m \u001b[0;34m%\u001b[0m \u001b[0;36m0\u001b[0m\u001b[0;34m\u001b[0m\u001b[0;34m\u001b[0m\u001b[0m\n\u001b[0m",
      "\u001b[0;31mZeroDivisionError\u001b[0m: integer division or modulo by zero"
     ]
    }
   ],
   "source": [
    "18 % 0"
   ]
  },
  {
   "cell_type": "code",
   "execution_count": null,
   "metadata": {},
   "outputs": [],
   "source": []
  }
 ],
 "metadata": {
  "kernelspec": {
   "display_name": "Python 3",
   "language": "python",
   "name": "python3"
  },
  "language_info": {
   "codemirror_mode": {
    "name": "ipython",
    "version": 3
   },
   "file_extension": ".py",
   "mimetype": "text/x-python",
   "name": "python",
   "nbconvert_exporter": "python",
   "pygments_lexer": "ipython3",
   "version": "3.6.9"
  }
 },
 "nbformat": 4,
 "nbformat_minor": 2
}
