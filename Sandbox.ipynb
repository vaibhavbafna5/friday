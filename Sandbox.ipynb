{
 "cells": [
  {
   "cell_type": "code",
   "execution_count": 32,
   "metadata": {},
   "outputs": [],
   "source": [
    "import spotipy\n",
    "import spotipy.util as util\n",
    "\n",
    "scope = 'user-library-read user-modify-playback-state user-read-playback-state'"
   ]
  },
  {
   "cell_type": "code",
   "execution_count": 33,
   "metadata": {},
   "outputs": [
    {
     "data": {
      "text/plain": [
       "'BQChHUDhTESK5AUJTH1AolcVlLWCyFP0oOc2j1ZfOBsxiH_PIhIiQ209KdYvcD3eVFSy2jovFZZcZLX-9HGkotiroQJKHs-n8YQX-YtMnOwKAY86xhwmDCR1zPOBLBScKhxkgnyJ-twarF875mmzzJ1UXqLuz3CA6V_Nf4IVaYIj7BgB'"
      ]
     },
     "execution_count": 33,
     "metadata": {},
     "output_type": "execute_result"
    }
   ],
   "source": [
    "util.prompt_for_user_token('Vaibhav Bafna', scope,client_id='d6f3df49b6634cbb94e820d337fda4e2',client_secret='3280007444f04aada6de9cc3639beb0e',redirect_uri='http://localhost/')"
   ]
  },
  {
   "cell_type": "code",
   "execution_count": 19,
   "metadata": {},
   "outputs": [],
   "source": [
    "token = 'BQD-YkgbwSf-cTLEqAE5R6deGzpbUyyUF9xQ1aPKIVFDStSCWCbura66fKQVZSQniVM6UK7ExYHeJ2AVYfDQxsy5LDJuRPeYVL-XWvh6XXRT6VH5ZS4Uwyluw5O6wvh3SCabNHPBYQlQo1k1LJS_hf2OapSdDYwUahHMiD8oyqm_HGTN'\n",
    "sp = spotipy.Spotify(auth=token)"
   ]
  },
  {
   "cell_type": "code",
   "execution_count": 1,
   "metadata": {},
   "outputs": [],
   "source": [
    "import logging\n",
    "import threading\n",
    "import time"
   ]
  },
  {
   "cell_type": "code",
   "execution_count": 15,
   "metadata": {},
   "outputs": [],
   "source": [
    "def thread_function(name):\n",
    "    print(\"Thread starting:\", name)\n",
    "    time.sleep(2)\n",
    "    print(\"Thread finishing:\", name)"
   ]
  },
  {
   "cell_type": "code",
   "execution_count": 29,
   "metadata": {},
   "outputs": [],
   "source": [
    "def driver():\n",
    "    print(\"Main: before creating thread\")\n",
    "    x = threading.Thread(target=thread_function, args=(1,), daemon=True)\n",
    "    print(\"Main: before running thread\")\n",
    "    x.start()\n",
    "    print(\"Main: wait for the thread to finish\")\n",
    "    x.join()\n",
    "    print(\"Main: all done\")"
   ]
  },
  {
   "cell_type": "code",
   "execution_count": 30,
   "metadata": {},
   "outputs": [
    {
     "name": "stdout",
     "output_type": "stream",
     "text": [
      "Main: before creating thread\n",
      "Main: before running thread\n",
      "Thread starting: 1\n",
      "Main: wait for the thread to finish\n",
      "Thread finishing: 1\n",
      "Main: all done\n"
     ]
    }
   ],
   "source": [
    "driver()"
   ]
  },
  {
   "cell_type": "code",
   "execution_count": 35,
   "metadata": {},
   "outputs": [],
   "source": [
    "dum = {\"hello\": {\"dummy\": \"merp merp\"}}"
   ]
  },
  {
   "cell_type": "code",
   "execution_count": 37,
   "metadata": {},
   "outputs": [
    {
     "data": {
      "text/plain": [
       "{'dummy': 'merp merp'}"
      ]
     },
     "execution_count": 37,
     "metadata": {},
     "output_type": "execute_result"
    }
   ],
   "source": [
    "dum['hello']"
   ]
  },
  {
   "cell_type": "code",
   "execution_count": null,
   "metadata": {},
   "outputs": [],
   "source": []
  }
 ],
 "metadata": {
  "kernelspec": {
   "display_name": "Python 3",
   "language": "python",
   "name": "python3"
  },
  "language_info": {
   "codemirror_mode": {
    "name": "ipython",
    "version": 3
   },
   "file_extension": ".py",
   "mimetype": "text/x-python",
   "name": "python",
   "nbconvert_exporter": "python",
   "pygments_lexer": "ipython3",
   "version": "3.6.9"
  }
 },
 "nbformat": 4,
 "nbformat_minor": 4
}
